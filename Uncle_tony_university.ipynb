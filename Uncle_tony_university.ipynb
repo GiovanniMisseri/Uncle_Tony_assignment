{
 "cells": [
  {
   "cell_type": "code",
   "execution_count": 4,
   "metadata": {
    "id": "K9up2RzySLBg"
   },
   "outputs": [],
   "source": [
    "import pandas as pd\n",
    "import seaborn as sns\n",
    "import matplotlib.pyplot as plt"
   ]
  },
  {
   "cell_type": "code",
   "execution_count": 2,
   "metadata": {
    "id": "fNBL3tMQW_rE"
   },
   "outputs": [],
   "source": [
    "students = pd.read_csv('Pirelli_data_challenge_v2.csv')"
   ]
  },
  {
   "cell_type": "code",
   "execution_count": 3,
   "metadata": {
    "colab": {
     "base_uri": "https://localhost:8080/"
    },
    "id": "aVRV626fXFxS",
    "outputId": "ee051bef-cba3-43a1-ac30-540a310eabc8"
   },
   "outputs": [
    {
     "data": {
      "text/plain": [
       "(384, 358)"
      ]
     },
     "execution_count": 3,
     "metadata": {},
     "output_type": "execute_result"
    }
   ],
   "source": [
    "students.shape"
   ]
  },
  {
   "cell_type": "code",
   "execution_count": 8,
   "metadata": {},
   "outputs": [
    {
     "data": {
      "text/plain": [
       "0"
      ]
     },
     "execution_count": 8,
     "metadata": {},
     "output_type": "execute_result"
    }
   ],
   "source": [
    "students.isna().sum().sum() #non sembrano esserci missing data"
   ]
  },
  {
   "cell_type": "code",
   "execution_count": 4,
   "metadata": {},
   "outputs": [
    {
     "data": {
      "text/html": [
       "<div>\n",
       "<style scoped>\n",
       "    .dataframe tbody tr th:only-of-type {\n",
       "        vertical-align: middle;\n",
       "    }\n",
       "\n",
       "    .dataframe tbody tr th {\n",
       "        vertical-align: top;\n",
       "    }\n",
       "\n",
       "    .dataframe thead th {\n",
       "        text-align: right;\n",
       "    }\n",
       "</style>\n",
       "<table border=\"1\" class=\"dataframe\">\n",
       "  <thead>\n",
       "    <tr style=\"text-align: right;\">\n",
       "      <th></th>\n",
       "      <th>question_0</th>\n",
       "      <th>question_1</th>\n",
       "      <th>question_2</th>\n",
       "      <th>question_3</th>\n",
       "      <th>question_4</th>\n",
       "      <th>question_5</th>\n",
       "      <th>question_6</th>\n",
       "      <th>question_7</th>\n",
       "      <th>question_8</th>\n",
       "      <th>question_9</th>\n",
       "      <th>...</th>\n",
       "      <th>question_348</th>\n",
       "      <th>question_349</th>\n",
       "      <th>question_350</th>\n",
       "      <th>question_351</th>\n",
       "      <th>question_352</th>\n",
       "      <th>question_353</th>\n",
       "      <th>question_354</th>\n",
       "      <th>question_355</th>\n",
       "      <th>question_356</th>\n",
       "      <th>score</th>\n",
       "    </tr>\n",
       "  </thead>\n",
       "  <tbody>\n",
       "    <tr>\n",
       "      <th>0</th>\n",
       "      <td>0.0</td>\n",
       "      <td>0.0</td>\n",
       "      <td>0.0</td>\n",
       "      <td>0.0</td>\n",
       "      <td>0.0</td>\n",
       "      <td>0.0</td>\n",
       "      <td>0.0</td>\n",
       "      <td>0.0</td>\n",
       "      <td>0.0</td>\n",
       "      <td>0.0</td>\n",
       "      <td>...</td>\n",
       "      <td>0.0</td>\n",
       "      <td>0.0</td>\n",
       "      <td>0.0</td>\n",
       "      <td>0.0</td>\n",
       "      <td>0.0</td>\n",
       "      <td>0.0</td>\n",
       "      <td>0.0</td>\n",
       "      <td>0.0</td>\n",
       "      <td>0.0</td>\n",
       "      <td>0.296901</td>\n",
       "    </tr>\n",
       "    <tr>\n",
       "      <th>1</th>\n",
       "      <td>0.0</td>\n",
       "      <td>0.0</td>\n",
       "      <td>0.0</td>\n",
       "      <td>0.0</td>\n",
       "      <td>0.0</td>\n",
       "      <td>0.0</td>\n",
       "      <td>0.0</td>\n",
       "      <td>0.0</td>\n",
       "      <td>0.0</td>\n",
       "      <td>0.0</td>\n",
       "      <td>...</td>\n",
       "      <td>0.0</td>\n",
       "      <td>0.0</td>\n",
       "      <td>0.0</td>\n",
       "      <td>0.0</td>\n",
       "      <td>0.0</td>\n",
       "      <td>0.0</td>\n",
       "      <td>0.0</td>\n",
       "      <td>0.0</td>\n",
       "      <td>0.0</td>\n",
       "      <td>0.057026</td>\n",
       "    </tr>\n",
       "    <tr>\n",
       "      <th>2</th>\n",
       "      <td>0.0</td>\n",
       "      <td>0.0</td>\n",
       "      <td>0.0</td>\n",
       "      <td>0.0</td>\n",
       "      <td>0.0</td>\n",
       "      <td>0.0</td>\n",
       "      <td>0.0</td>\n",
       "      <td>0.0</td>\n",
       "      <td>0.0</td>\n",
       "      <td>0.0</td>\n",
       "      <td>...</td>\n",
       "      <td>0.0</td>\n",
       "      <td>0.0</td>\n",
       "      <td>0.0</td>\n",
       "      <td>0.0</td>\n",
       "      <td>0.0</td>\n",
       "      <td>0.0</td>\n",
       "      <td>0.0</td>\n",
       "      <td>0.0</td>\n",
       "      <td>0.0</td>\n",
       "      <td>0.916191</td>\n",
       "    </tr>\n",
       "    <tr>\n",
       "      <th>3</th>\n",
       "      <td>0.0</td>\n",
       "      <td>0.0</td>\n",
       "      <td>0.0</td>\n",
       "      <td>0.0</td>\n",
       "      <td>0.0</td>\n",
       "      <td>0.0</td>\n",
       "      <td>0.0</td>\n",
       "      <td>0.0</td>\n",
       "      <td>0.0</td>\n",
       "      <td>0.0</td>\n",
       "      <td>...</td>\n",
       "      <td>0.0</td>\n",
       "      <td>0.0</td>\n",
       "      <td>0.0</td>\n",
       "      <td>0.0</td>\n",
       "      <td>0.0</td>\n",
       "      <td>0.0</td>\n",
       "      <td>0.0</td>\n",
       "      <td>0.0</td>\n",
       "      <td>0.0</td>\n",
       "      <td>0.075314</td>\n",
       "    </tr>\n",
       "    <tr>\n",
       "      <th>4</th>\n",
       "      <td>0.0</td>\n",
       "      <td>0.0</td>\n",
       "      <td>0.0</td>\n",
       "      <td>0.0</td>\n",
       "      <td>0.0</td>\n",
       "      <td>0.0</td>\n",
       "      <td>0.0</td>\n",
       "      <td>0.0</td>\n",
       "      <td>0.0</td>\n",
       "      <td>0.0</td>\n",
       "      <td>...</td>\n",
       "      <td>0.0</td>\n",
       "      <td>0.0</td>\n",
       "      <td>0.0</td>\n",
       "      <td>0.0</td>\n",
       "      <td>0.0</td>\n",
       "      <td>0.0</td>\n",
       "      <td>0.0</td>\n",
       "      <td>0.0</td>\n",
       "      <td>0.0</td>\n",
       "      <td>0.290505</td>\n",
       "    </tr>\n",
       "  </tbody>\n",
       "</table>\n",
       "<p>5 rows × 358 columns</p>\n",
       "</div>"
      ],
      "text/plain": [
       "   question_0  question_1  question_2  question_3  question_4  question_5  \\\n",
       "0         0.0         0.0         0.0         0.0         0.0         0.0   \n",
       "1         0.0         0.0         0.0         0.0         0.0         0.0   \n",
       "2         0.0         0.0         0.0         0.0         0.0         0.0   \n",
       "3         0.0         0.0         0.0         0.0         0.0         0.0   \n",
       "4         0.0         0.0         0.0         0.0         0.0         0.0   \n",
       "\n",
       "   question_6  question_7  question_8  question_9  ...  question_348  \\\n",
       "0         0.0         0.0         0.0         0.0  ...           0.0   \n",
       "1         0.0         0.0         0.0         0.0  ...           0.0   \n",
       "2         0.0         0.0         0.0         0.0  ...           0.0   \n",
       "3         0.0         0.0         0.0         0.0  ...           0.0   \n",
       "4         0.0         0.0         0.0         0.0  ...           0.0   \n",
       "\n",
       "   question_349  question_350  question_351  question_352  question_353  \\\n",
       "0           0.0           0.0           0.0           0.0           0.0   \n",
       "1           0.0           0.0           0.0           0.0           0.0   \n",
       "2           0.0           0.0           0.0           0.0           0.0   \n",
       "3           0.0           0.0           0.0           0.0           0.0   \n",
       "4           0.0           0.0           0.0           0.0           0.0   \n",
       "\n",
       "   question_354  question_355  question_356     score  \n",
       "0           0.0           0.0           0.0  0.296901  \n",
       "1           0.0           0.0           0.0  0.057026  \n",
       "2           0.0           0.0           0.0  0.916191  \n",
       "3           0.0           0.0           0.0  0.075314  \n",
       "4           0.0           0.0           0.0  0.290505  \n",
       "\n",
       "[5 rows x 358 columns]"
      ]
     },
     "execution_count": 4,
     "metadata": {},
     "output_type": "execute_result"
    }
   ],
   "source": [
    "students.head() #tutte le colonne sembrano essere buleane"
   ]
  },
  {
   "cell_type": "code",
   "execution_count": 5,
   "metadata": {
    "colab": {
     "base_uri": "https://localhost:8080/",
     "height": 339
    },
    "id": "_WfAxCDw3UZC",
    "outputId": "21f60be0-0dd8-4951-f638-53d3a756ea71"
   },
   "outputs": [
    {
     "name": "stderr",
     "output_type": "stream",
     "text": [
      "/Users/gmisser/Library/Python/3.8/lib/python/site-packages/seaborn/distributions.py:2619: FutureWarning: `distplot` is a deprecated function and will be removed in a future version. Please adapt your code to use either `displot` (a figure-level function with similar flexibility) or `histplot` (an axes-level function for histograms).\n",
      "  warnings.warn(msg, FutureWarning)\n"
     ]
    },
    {
     "data": {
      "text/plain": [
       "<AxesSubplot:ylabel='Density'>"
      ]
     },
     "execution_count": 5,
     "metadata": {},
     "output_type": "execute_result"
    },
    {
     "data": {
      "image/png": "[encoded data removed]",
      "text/plain": [
       "<Figure size 432x288 with 1 Axes>"
      ]
     },
     "metadata": {
      "needs_background": "light"
     },
     "output_type": "display_data"
    }
   ],
   "source": [
    "sns.distplot(students.sum()) #distribuzione numero di 1 per domanda, ho la gran parte delle domande dove tutti danno 0 "
   ]
  },
  {
   "cell_type": "code",
   "execution_count": 6,
   "metadata": {
    "colab": {
     "base_uri": "https://localhost:8080/"
    },
    "id": "mI37L0OW3hUf",
    "outputId": "8238fc15-9381-4a25-a995-a5d848d55cdd"
   },
   "outputs": [
    {
     "data": {
      "text/plain": [
       "5"
      ]
     },
     "execution_count": 6,
     "metadata": {},
     "output_type": "execute_result"
    }
   ],
   "source": [
    "(students.sum()==0).sum() # addirittura 5 domande a cui tutti danno 0"
   ]
  },
  {
   "cell_type": "code",
   "execution_count": 7,
   "metadata": {
    "id": "VEyHCGe-Tw6J"
   },
   "outputs": [],
   "source": [
    "# plotto in 2d il backgroud degli studenti per capire come si distribuiscono"
   ]
  },
  {
   "cell_type": "code",
   "execution_count": 8,
   "metadata": {
    "id": "q9TaMDp_4FX2"
   },
   "outputs": [],
   "source": [
    "from sklearn.decomposition import PCA\n",
    "pca = PCA(n_components=2)\n",
    "components_2_noscore = pca.fit_transform(students.iloc[:,:-1])\n",
    "pcaDF = pd.DataFrame(data = components_2_noscore, columns = ['pc_1', 'pc_2'])\n",
    "pcaDF['score'] = students['score']"
   ]
  },
  {
   "cell_type": "code",
   "execution_count": 9,
   "metadata": {
    "colab": {
     "base_uri": "https://localhost:8080/",
     "height": 523
    },
    "id": "Y6SBCnRd31CP",
    "outputId": "f72a38ab-19df-420d-e26a-97393976b3c1"
   },
   "outputs": [
    {
     "data": {
      "image/png": "[encoded data removed]",
      "text/plain": [
       "<Figure size 576x576 with 1 Axes>"
      ]
     },
     "metadata": {
      "needs_background": "light"
     },
     "output_type": "display_data"
    }
   ],
   "source": [
    "fig = plt.figure(figsize = (8,8))\n",
    "ax = fig.add_subplot(1,1,1) \n",
    "ax.set_xlabel('Principal Component 1', fontsize = 15)\n",
    "ax.set_ylabel('Principal Component 2', fontsize = 15)\n",
    "ax.set_title('2 component PCA', fontsize = 20)\n",
    "\n",
    "ax.scatter(pcaDF['pc_1'], pcaDF['pc_2'], c = pcaDF['score'], s = 50)\n",
    "ax.grid()"
   ]
  },
  {
   "cell_type": "code",
   "execution_count": 10,
   "metadata": {
    "id": "OGMUjj3tT7ii"
   },
   "outputs": [],
   "source": [
    "## pare si distribuiscano abbastanza equamente nello spazio, sembra convergano in cluster, da analizzare piu' a fondo"
   ]
  },
  {
   "cell_type": "code",
   "execution_count": 11,
   "metadata": {
    "colab": {
     "base_uri": "https://localhost:8080/",
     "height": 353
    },
    "id": "AdlwF-tjAnQa",
    "outputId": "2a189009-9d7f-4761-b310-e687a68c5a3f"
   },
   "outputs": [
    {
     "name": "stderr",
     "output_type": "stream",
     "text": [
      "/Users/gmisser/Library/Python/3.8/lib/python/site-packages/seaborn/_decorators.py:36: FutureWarning: Pass the following variable as a keyword arg: x. From version 0.12, the only valid positional argument will be `data`, and passing other arguments without an explicit keyword will result in an error or misinterpretation.\n",
      "  warnings.warn(\n"
     ]
    },
    {
     "data": {
      "text/plain": [
       "<AxesSubplot:xlabel='score'>"
      ]
     },
     "execution_count": 11,
     "metadata": {},
     "output_type": "execute_result"
    },
    {
     "data": {
      "image/png": "[encoded data removed]",
      "text/plain": [
       "<Figure size 432x288 with 1 Axes>"
      ]
     },
     "metadata": {
      "needs_background": "light"
     },
     "output_type": "display_data"
    }
   ],
   "source": [
    "sns.violinplot(students['score'], inner='quartile') #distribuzione della performance allo skill test, distribuzione quasi uniforme"
   ]
  },
  {
   "cell_type": "code",
   "execution_count": null,
   "metadata": {
    "id": "mFvUnO5yAnSZ"
   },
   "outputs": [],
   "source": []
  },
  {
   "cell_type": "code",
   "execution_count": 12,
   "metadata": {
    "colab": {
     "base_uri": "https://localhost:8080/",
     "height": 295
    },
    "id": "JF84FtaTAGFM",
    "outputId": "3d82c331-f036-44a3-cea9-3f5894a44036"
   },
   "outputs": [
    {
     "data": {
      "image/png": "[encoded data removed]",
      "text/plain": [
       "<Figure size 432x288 with 1 Axes>"
      ]
     },
     "metadata": {
      "needs_background": "light"
     },
     "output_type": "display_data"
    }
   ],
   "source": [
    "# dato che ho molte features rispetto al numero di osservazioni puo' essere una buona idea vedere se c'e' spazio per dimensionality reduction, potremmo ridurre il numero di colonne senza perdere molto in termini informativi\n",
    "\n",
    "import matplotlib.pyplot as plt\n",
    "import numpy as np\n",
    "\n",
    "pca = PCA(n_components=200)\n",
    "components_200_noscore = pca.fit_transform(students.iloc[:,:-1])\n",
    "\n",
    "PC_values = np.arange(pca.n_components_) + 1\n",
    "plt.plot(PC_values, pca.explained_variance_ratio_, 'o-', linewidth=2, color='blue')\n",
    "\n",
    "\n",
    "plt.title('Scree Plot')\n",
    "plt.xlabel('Principal Component')\n",
    "plt.ylabel('Variance Explained')\n",
    "plt.show()"
   ]
  },
  {
   "cell_type": "code",
   "execution_count": 13,
   "metadata": {
    "colab": {
     "base_uri": "https://localhost:8080/"
    },
    "id": "L-aqmbTHDkPR",
    "outputId": "691f58b9-4cb3-4e9d-dfc6-072aa6cf317b"
   },
   "outputs": [
    {
     "data": {
      "text/plain": [
       "0.5351510017065148"
      ]
     },
     "execution_count": 13,
     "metadata": {},
     "output_type": "execute_result"
    }
   ],
   "source": [
    "(pca.explained_variance_ratio_[:20]).sum()\n",
    "# la varianza spiegata dalle prime 20 componenti principali non e' strabiliante\n",
    "# ma vista la grande riduzione percentuale, il chiaro gomito nello scree plot\n",
    "# ed il mio attuale obiettivo (punto a creare dei cluster per aiutarmi nella distribuzioone degli studenti nelle classi),\n",
    "# mi accontento di questo 53.5%"
   ]
  },
  {
   "cell_type": "code",
   "execution_count": 14,
   "metadata": {
    "id": "UHQlvuAZEFMY"
   },
   "outputs": [],
   "source": [
    "components_20_noscore = components_200_noscore[:,:20]"
   ]
  },
  {
   "cell_type": "code",
   "execution_count": 15,
   "metadata": {
    "id": "H_Yf2hO2E2tT"
   },
   "outputs": [],
   "source": [
    "from sklearn.cluster import KMeans\n",
    "\n",
    "# function returns inertia score for k values from 1 to kmax\n",
    "def calculate_sse(points, kmax):\n",
    "  sse = []\n",
    "  for k in range(1, kmax+1):\n",
    "    kmeans = KMeans(n_clusters = k).fit(points)\n",
    "    sse.append(kmeans.inertia_)\n",
    "  return sse"
   ]
  },
  {
   "cell_type": "code",
   "execution_count": 16,
   "metadata": {
    "id": "NKqCjs8r4TEA"
   },
   "outputs": [],
   "source": [
    "sse = calculate_sse(components_20_noscore,50)"
   ]
  },
  {
   "cell_type": "code",
   "execution_count": 17,
   "metadata": {
    "colab": {
     "base_uri": "https://localhost:8080/",
     "height": 283
    },
    "id": "QhIdvQX7E2z1",
    "outputId": "12f9b10f-7a6a-492f-99b4-823940519214"
   },
   "outputs": [
    {
     "data": {
      "text/plain": [
       "<matplotlib.lines.Line2D at 0x124fa7430>"
      ]
     },
     "execution_count": 17,
     "metadata": {},
     "output_type": "execute_result"
    },
    {
     "data": {
      "image/png": "[encoded data removed]",
      "text/plain": [
       "<Figure size 432x288 with 1 Axes>"
      ]
     },
     "metadata": {
      "needs_background": "light"
     },
     "output_type": "display_data"
    }
   ],
   "source": [
    "plt.plot(sse) # guardando l'inerzia all'aumentare del numero di cluster non sembra esserci un chiaro punto in cui l'inerzia decresce molto meno che linearmente, usero' k=13 che in diversi run e' risultato essere un buon compromesso\n",
    "plt.axvline(x=13, ymin=0, ymax=700, color = 'red', linestyle='dashed')"
   ]
  },
  {
   "cell_type": "code",
   "execution_count": 18,
   "metadata": {
    "id": "sUx6dRZMFjh3"
   },
   "outputs": [],
   "source": [
    "from sklearn.metrics import silhouette_score\n",
    "\n",
    "sil = []\n",
    "kmax = 20\n",
    "\n",
    "# dissimilarity would not be defined for a single cluster, thus, minimum number of clusters should be 2\n",
    "for k in range(2, kmax+1):\n",
    "  kmeans = KMeans(n_clusters = k).fit(components_20_noscore)\n",
    "  labels = kmeans.labels_\n",
    "  sil.append(silhouette_score(components_20_noscore, labels, metric = 'euclidean'))"
   ]
  },
  {
   "cell_type": "code",
   "execution_count": 19,
   "metadata": {
    "colab": {
     "base_uri": "https://localhost:8080/",
     "height": 283
    },
    "id": "y_TReIIEF8GT",
    "outputId": "01b7e89f-8051-423b-c688-22ff061da328"
   },
   "outputs": [
    {
     "data": {
      "text/plain": [
       "<matplotlib.lines.Line2D at 0x12778bc40>"
      ]
     },
     "execution_count": 19,
     "metadata": {},
     "output_type": "execute_result"
    },
    {
     "data": {
      "image/png": "[encoded data removed]",
      "text/plain": [
       "<Figure size 432x288 with 1 Axes>"
      ]
     },
     "metadata": {
      "needs_background": "light"
     },
     "output_type": "display_data"
    }
   ],
   "source": [
    "plt.plot(sil) #guardo il silhouette score al variare del numero di cluster per vere se questa conferma la credibilita' di 13 come numero di cluster rispetto agli altri\n",
    "plt.axvline(x=13, ymin=0, ymax=700, color = 'red', linestyle='dashed') "
   ]
  },
  {
   "cell_type": "code",
   "execution_count": null,
   "metadata": {
    "id": "Pojdn_vEHlyH"
   },
   "outputs": [],
   "source": []
  },
  {
   "cell_type": "code",
   "execution_count": 39,
   "metadata": {
    "id": "SmwTutti6zhR"
   },
   "outputs": [],
   "source": [
    "kmeans = KMeans(n_clusters = 13).fit(components_20_noscore)\n"
   ]
  },
  {
   "cell_type": "code",
   "execution_count": 41,
   "metadata": {
    "colab": {
     "base_uri": "https://localhost:8080/"
    },
    "id": "F7QthLI_6zj_",
    "outputId": "9b347679-1885-4d2d-caad-fe8dd1ccf03d"
   },
   "outputs": [
    {
     "data": {
      "text/plain": [
       "{0: 22,\n",
       " 1: 44,\n",
       " 2: 15,\n",
       " 3: 27,\n",
       " 4: 52,\n",
       " 5: 40,\n",
       " 6: 30,\n",
       " 7: 40,\n",
       " 8: 32,\n",
       " 9: 22,\n",
       " 10: 24,\n",
       " 11: 13,\n",
       " 12: 23}"
      ]
     },
     "execution_count": 41,
     "metadata": {},
     "output_type": "execute_result"
    }
   ],
   "source": [
    "labels_km = kmeans.labels_\n",
    "unique, counts = np.unique(labels_km, return_counts=True)\n",
    "dict(zip(unique,counts)) # divido gli studenti nei 13 cluster, sembra esserci qualche cluster piu' grande degli altri ma tutto sommato sembrano distribuiti in maniera sufficientemente equa"
   ]
  },
  {
   "cell_type": "code",
   "execution_count": null,
   "metadata": {
    "id": "bOn9m6C6JNNy"
   },
   "outputs": [],
   "source": []
  },
  {
   "cell_type": "code",
   "execution_count": 42,
   "metadata": {
    "colab": {
     "base_uri": "https://localhost:8080/"
    },
    "id": "aSEbJ1Pp9vdr",
    "outputId": "73c12c86-f054-4202-bd8b-9d254f2073ff"
   },
   "outputs": [
    {
     "name": "stdout",
     "output_type": "stream",
     "text": [
      "17.192279687410853 1\n",
      "17.102085186110454 7\n",
      "14.786415077083157 4\n",
      "15.152342146333584 7\n",
      "15.16313173418321 9\n",
      "15.190119887062298 9\n",
      "14.92333381451116 8\n",
      "15.664021081906007 11\n",
      "15.580008324933265 12\n"
     ]
    }
   ],
   "source": [
    "# qui l'idea e' dividere i diversi cluster in quantili rispetto allo score ottenuto da ciascuno studente. \n",
    "# si noti che i cluster sono fatti utilizzando solo le 20 coomponenti principali ottenute proiettando il background degli studenti.\n",
    "# questo dovrebbe garantire che i diversi cluster rappresentino diversi background. Andando a raggruppare gli studenti provenienti da diversi cluster\n",
    "# ma appartenenti allo stesso decile mettiamo assieme gli studenti di spicco rispetto al proprio cluster mantenendo pero' variabilita'\n",
    "# rispetto al background\n",
    "\n",
    "score_cluster = pd.DataFrame(components_20_noscore)\n",
    "score_cluster['score'] = students['score']\n",
    "score_cluster['cluster'] = labels_km\n",
    "\n",
    "t_test_list = []\n",
    "for num_class in range(2,11):\n",
    "    l1=list((np.arange(num_class)+1)/num_class)\n",
    "    l1.insert(0,0)\n",
    "    l2=list(np.arange(num_class)+1)\n",
    "    list_quantiles = []\n",
    "\n",
    "    for clus_id in range(13):\n",
    "        quantiles = pd.qcut(score_cluster[score_cluster.cluster==clus_id].score.rank(method='first'), l1, labels=l2)\n",
    "        list_quantiles.append(quantiles)\n",
    "    score_cluster['class'] = pd.concat(list_quantiles)\n",
    "\n",
    "    mean_df = score_cluster.groupby(['class']).mean().iloc[:,:20]\n",
    "    std_df = score_cluster.groupby(['class']).std().iloc[:,:20]\n",
    "    n_df = (score_cluster.groupby(['class']).count()).iloc[:,:20]\n",
    "    SE_df = std_df/np.sqrt(n_df)\n",
    "    t_test_df = (mean_df/SE_df).iloc[:,:20]\n",
    "    print(np.abs(t_test_df).sum().sum()/num_class,((np.abs(t_test_df)>1.96).sum().sum()) )\n",
    "    t_test_list.append(np.abs(t_test_df).sum().sum()/num_class)\n",
    "num_class_sel = t_test_list.index(min(t_test_list))+2"
   ]
  },
  {
   "cell_type": "code",
   "execution_count": 43,
   "metadata": {},
   "outputs": [],
   "source": [
    "# come richiesto il numero di classi sara' quello che garantisce sufficiente variabilita' nel background ma precisione nella divisione\n",
    "# su base skill. Come implementato sotto si potrebbe selezionare il numero di classi in base alla variabilita' massima, \n",
    "# o si potrebbe selezionare il numero in base al rapporto variabilita_skill/variabilita_backgroud per prendere il rapporto piu' conveniente.\n",
    "# in generale pero', viste le premesse riguardo alle lamentele rispetto alla divisione per skill un approccio piu' conservativo potrebbe essere utile.\n",
    "# seleziono quindi il numero di classi prendendo il minimo della somma del t-value (in assoluto) medio sulle componenti principali.\n",
    "# questo per cercare di garantire la creazione di classi con minor differenza possibile rispetto alla popolazione di partenza (che essendo PCA ha media 0)\n"
   ]
  },
  {
   "cell_type": "code",
   "execution_count": 44,
   "metadata": {
    "colab": {
     "base_uri": "https://localhost:8080/"
    },
    "id": "sK5imuwDMZ-6",
    "outputId": "2aa2a8e6-a57d-4153-8c1d-78fc14ad55ae"
   },
   "outputs": [
    {
     "name": "stdout",
     "output_type": "stream",
     "text": [
      "5.987840842718543 1\n",
      "5.968661580224826 7\n",
      "5.970983593048179 4\n",
      "5.962012471238845 7\n",
      "5.959891149360743 9\n",
      "5.937161088338398 9\n",
      "5.947576132647374 8\n",
      "5.92082794592895 11\n",
      "5.922702642858947 12\n"
     ]
    }
   ],
   "source": [
    "for num_class in range(2,11):\n",
    "    l1=list((np.arange(num_class)+1)/num_class)\n",
    "    l1.insert(0,0)\n",
    "    l2=list(np.arange(num_class)+1)\n",
    "    list_quantiles = []\n",
    "\n",
    "    for clus_id in range(13):\n",
    "        quantiles = pd.qcut(score_cluster[score_cluster.cluster==clus_id].score.rank(method='first'), l1, labels=l2)\n",
    "        list_quantiles.append(quantiles)\n",
    "    score_cluster['class'] = pd.concat(list_quantiles)\n",
    "\n",
    "    mean_df = score_cluster.groupby(['class']).mean().iloc[:,:20]\n",
    "    std_df = score_cluster.groupby(['class']).std().iloc[:,:20]\n",
    "    n_df = (score_cluster.groupby(['class']).count()).iloc[:,:20]\n",
    "    SE_df = std_df/np.sqrt(n_df)\n",
    "    t_test_df = (mean_df/SE_df)\n",
    "    print(np.abs(std_df).sum().sum()/num_class,((np.abs(t_test_df)>1.96).sum().sum()))"
   ]
  },
  {
   "cell_type": "code",
   "execution_count": 45,
   "metadata": {
    "id": "rFR_MK1RSOwb"
   },
   "outputs": [],
   "source": [
    "l1=list((np.arange(num_class_sel)+1)/num_class_sel)\n",
    "l1.insert(0,0)\n",
    "l2=list(np.arange(num_class_sel)+1)\n",
    "list_quantiles = []\n",
    "\n",
    "for clus_id in range(13):\n",
    "    quantiles = pd.qcut(score_cluster[score_cluster.cluster==clus_id].score.rank(method='first'), l1, labels=l2)\n",
    "    list_quantiles.append(quantiles)\n",
    "score_cluster['class'] = pd.concat(list_quantiles)"
   ]
  },
  {
   "cell_type": "code",
   "execution_count": 46,
   "metadata": {
    "colab": {
     "base_uri": "https://localhost:8080/"
    },
    "id": "WqiP2USnOs4L",
    "outputId": "fa9a32e2-2c8f-42f0-de69-d480959b9659"
   },
   "outputs": [
    {
     "data": {
      "text/plain": [
       "class\n",
       "1    0.127249\n",
       "2    0.315596\n",
       "3    0.497536\n",
       "4    0.814134\n",
       "Name: score, dtype: float64"
      ]
     },
     "execution_count": 46,
     "metadata": {},
     "output_type": "execute_result"
    }
   ],
   "source": [
    "score_cluster.groupby(['class'])['score'].mean() #punteggio medio per classe "
   ]
  },
  {
   "cell_type": "code",
   "execution_count": 47,
   "metadata": {
    "colab": {
     "base_uri": "https://localhost:8080/"
    },
    "id": "_w11dt9QSvlZ",
    "outputId": "9361b29f-409c-46d8-dd39-3e05c05e90e0"
   },
   "outputs": [
    {
     "data": {
      "text/plain": [
       "class\n",
       "1    99\n",
       "2    95\n",
       "3    92\n",
       "4    98\n",
       "Name: score, dtype: int64"
      ]
     },
     "execution_count": 47,
     "metadata": {},
     "output_type": "execute_result"
    }
   ],
   "source": [
    "score_cluster.groupby(['class'])['score'].count() #numerosita' classi"
   ]
  },
  {
   "cell_type": "code",
   "execution_count": 37,
   "metadata": {
    "id": "_ZsnXoxpTPUk"
   },
   "outputs": [],
   "source": [
    "##### correlazione "
   ]
  },
  {
   "cell_type": "code",
   "execution_count": 48,
   "metadata": {},
   "outputs": [
    {
     "name": "stderr",
     "output_type": "stream",
     "text": [
      "/Users/gmisser/Library/Python/3.8/lib/python/site-packages/scipy/stats/stats.py:4023: PearsonRConstantInputWarning: An input array is constant; the correlation coefficient is not defined.\n",
      "  warnings.warn(PearsonRConstantInputWarning())\n"
     ]
    }
   ],
   "source": [
    "# qui per prima cosa testo la correlazione lineare tra le variabili relative al background e lo score ottenuto nello skill test\n",
    "\n",
    "from scipy.stats import pearsonr\n",
    "\n",
    "pos_corr = []\n",
    "neg_corr = []\n",
    "for i in range(students.shape[1]):\n",
    "    corr, _ = pearsonr(students.iloc[:,i],students.score)\n",
    "    if corr<-0.5:\n",
    "        neg_corr.append(i)\n",
    "    elif corr>0.5:\n",
    "        pos_corr.append(i)\n"
   ]
  },
  {
   "cell_type": "code",
   "execution_count": 49,
   "metadata": {},
   "outputs": [
    {
     "data": {
      "text/plain": [
       "([357], [])"
      ]
     },
     "execution_count": 49,
     "metadata": {},
     "output_type": "execute_result"
    }
   ],
   "source": [
    "pos_corr,neg_corr #solamente la risposta alla 357 domanda sul background e' significativamente correlata allo score ottenuto"
   ]
  },
  {
   "cell_type": "code",
   "execution_count": 78,
   "metadata": {
    "id": "5R7xl9xUTPWq"
   },
   "outputs": [],
   "source": [
    "# visto che non sembrano esserci forti correlazioni lineari cerco correlazione tra background e score con un modello in grado di cogliere eventuali \n",
    "# correlazioni non lineari. In questo caso uso il random forest per poter applicare Boruta come metodo di feature selection, per selezionare le componenti principali piu'\n",
    "# importanti nella previsione ed eventualmente avere poi un set di features su cui concentrarsi in eventuali studi futuri\n",
    "from sklearn.model_selection import train_test_split\n",
    "X_train,X_test,y_train,y_test = train_test_split(students.iloc[:,:-1],students.iloc[:,-1],test_size=0.15)"
   ]
  },
  {
   "cell_type": "code",
   "execution_count": 79,
   "metadata": {},
   "outputs": [
    {
     "data": {
      "text/plain": [
       "0.8399114837214295"
      ]
     },
     "execution_count": 79,
     "metadata": {},
     "output_type": "execute_result"
    }
   ],
   "source": [
    "from sklearn.ensemble import RandomForestRegressor\n",
    "from sklearn.metrics import mean_squared_error\n",
    "\n",
    "\n",
    "rf = RandomForestRegressor(max_depth=6, min_samples_split=4)\n",
    "rf.fit(X_train, y_train)\n",
    "pred_rf = rf.predict(X_test)\n",
    "\n",
    "mean_pred = np.repeat(y_test.mean(),y_test.shape[0])\n",
    "mean_squared_error(y_test, pred_rf)/mean_squared_error(y_test, mean_pred) \n",
    "# sembra possibile migliorare la previsione rispetto al semplice previsione = media dello score. Questo suggerisce la presenza di qualche relazione tra background e score.\n",
    "#seppure quindi non ci siano chiare correlazioni lineari qualche lieve forma di correlazione sembra esserci.\n",
    "# in media il modello sembra prevedere attorno al 15% meglio della previsione media, quindi non una grande performance ma sembra esserci spazio per eventuali investigazioni future.\n"
   ]
  },
  {
   "cell_type": "code",
   "execution_count": 80,
   "metadata": {
    "tags": []
   },
   "outputs": [
    {
     "name": "stdout",
     "output_type": "stream",
     "text": [
      "Iteration: \t1 / 10\n",
      "Confirmed: \t0\n",
      "Tentative: \t357\n",
      "Rejected: \t0\n",
      "Iteration: \t2 / 10\n",
      "Confirmed: \t0\n",
      "Tentative: \t357\n",
      "Rejected: \t0\n",
      "Iteration: \t3 / 10\n",
      "Confirmed: \t0\n",
      "Tentative: \t357\n",
      "Rejected: \t0\n",
      "Iteration: \t4 / 10\n",
      "Confirmed: \t0\n",
      "Tentative: \t357\n",
      "Rejected: \t0\n",
      "Iteration: \t5 / 10\n",
      "Confirmed: \t0\n",
      "Tentative: \t357\n",
      "Rejected: \t0\n",
      "Iteration: \t6 / 10\n",
      "Confirmed: \t0\n",
      "Tentative: \t357\n",
      "Rejected: \t0\n",
      "Iteration: \t7 / 10\n",
      "Confirmed: \t0\n",
      "Tentative: \t357\n",
      "Rejected: \t0\n",
      "Iteration: \t8 / 10\n",
      "Confirmed: \t0\n",
      "Tentative: \t11\n",
      "Rejected: \t346\n",
      "Iteration: \t9 / 10\n",
      "Confirmed: \t3\n",
      "Tentative: \t8\n",
      "Rejected: \t346\n",
      "\n",
      "\n",
      "BorutaPy finished running.\n",
      "\n",
      "Iteration: \t10 / 10\n",
      "Confirmed: \t3\n",
      "Tentative: \t4\n",
      "Rejected: \t346\n"
     ]
    }
   ],
   "source": [
    "# uso la selezione feature Boruta per avere un set ristretto di features su cui concentrare l'eventuale futura analisi\n",
    "\n",
    "from boruta import BorutaPy\n",
    "rf_boruta = RandomForestRegressor(max_depth=6, min_samples_split=4)\n",
    "\n",
    "feat_selector = BorutaPy(\n",
    "    verbose=2,\n",
    "    estimator=rf_boruta,\n",
    "    n_estimators='auto',\n",
    "    max_iter=10  # number of iterations to perform\n",
    ")\n",
    "\n",
    "feat_selector.fit(np.array(X_train), np.array(y_train))\n",
    "\n",
    "support_boruta = list(feat_selector.support_weak_+feat_selector.support_) "
   ]
  },
  {
   "cell_type": "code",
   "execution_count": 81,
   "metadata": {},
   "outputs": [
    {
     "data": {
      "text/plain": [
       "array([101, 103, 107, 114, 197, 270, 273])"
      ]
     },
     "execution_count": 81,
     "metadata": {},
     "output_type": "execute_result"
    }
   ],
   "source": [
    "np.array(range(students.iloc[:,:-1].shape[1]))[support_boruta] # lista domande possibilmente relazionate allo score nello skill test"
   ]
  },
  {
   "cell_type": "code",
   "execution_count": null,
   "metadata": {
    "id": "oS2mVujlKKIa"
   },
   "outputs": [],
   "source": []
  }
 ],
 "metadata": {
  "colab": {
   "name": "Uncle_tony_university.ipynb",
   "provenance": []
  },
  "kernelspec": {
   "display_name": "Python 3 (ipykernel)",
   "language": "python",
   "name": "python3"
  },
  "language_info": {
   "codemirror_mode": {
    "name": "ipython",
    "version": 3
   },
   "file_extension": ".py",
   "mimetype": "text/x-python",
   "name": "python",
   "nbconvert_exporter": "python",
   "pygments_lexer": "ipython3",
   "version": "3.8.9"
  }
 },
 "nbformat": 4,
 "nbformat_minor": 4
}
